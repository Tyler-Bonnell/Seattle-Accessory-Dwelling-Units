{
 "cells": [
  {
   "cell_type": "markdown",
   "metadata": {},
   "source": [
    "# Seattle Accessory Dwelling Units\n",
    "Source: [City of Seattle Open Data Portal](https://data.seattle.gov/)"
   ]
  },
  {
   "cell_type": "code",
   "execution_count": 52,
   "metadata": {},
   "outputs": [],
   "source": [
    "# Load Packages\n",
    "from pprint import pprint # For tidy printing\n",
    "import numpy as np \n",
    "import pandas as pd\n",
    "import matplotlib.pyplot as plt\n",
    "import seaborn as sns\n",
    "from pathlib import Path # For storing filepaths as a Path Object\n",
    "\n",
    "# Load Packages (API Pulls)\n",
    "import requests\n",
    "from io import StringIO\n",
    "import time # To record elapsed time"
   ]
  },
  {
   "cell_type": "code",
   "execution_count": 59,
   "metadata": {},
   "outputs": [],
   "source": [
    "# Custom Functions\n",
    "def missing_stats(series):\n",
    "\n",
    "    \"\"\"Calculate the Number and Percentage of Missing Values within a series. Use with .agg() to apply to multiple data frame columns.\"\"\"\n",
    "\n",
    "    total_missing = series.isnull().sum()\n",
    "    percentage_missing = str((total_missing / len(series) * 100).round(2)) + '%'\n",
    "    return f\"Total Missing: {total_missing}, Percentage Missing: {percentage_missing}%\"\n"
   ]
  },
  {
   "cell_type": "markdown",
   "metadata": {},
   "source": [
    "## Load in ADU Data"
   ]
  },
  {
   "cell_type": "code",
   "execution_count": 54,
   "metadata": {},
   "outputs": [],
   "source": [
    "data_folder = Path.cwd() / 'data' \n",
    "\n",
    "df_aadu = pd.read_csv(data_folder /'raw'/'Detached_Accessory_Dwelling_Units_(DADUs).csv')\n",
    "df_dadu = pd.read_csv(data_folder /'raw'/'Attached_Accessory_Dwelling_Units_(AADUs).csv')"
   ]
  },
  {
   "cell_type": "markdown",
   "metadata": {},
   "source": [
    "## Explore ADU Data"
   ]
  },
  {
   "cell_type": "code",
   "execution_count": 55,
   "metadata": {},
   "outputs": [
    {
     "name": "stdout",
     "output_type": "stream",
     "text": [
      "(2580, 60)\n",
      "(3522, 60)\n",
      "<class 'pandas.core.frame.DataFrame'>\n",
      "RangeIndex: 2580 entries, 0 to 2579\n",
      "Data columns (total 60 columns):\n",
      " #   Column                           Non-Null Count  Dtype  \n",
      "---  ------                           --------------  -----  \n",
      " 0   OBJECTID                         2580 non-null   int64  \n",
      " 1   Project Address                  2580 non-null   object \n",
      " 2   Development Site Square Feet     2574 non-null   float64\n",
      " 3   Permit Number                    2580 non-null   int64  \n",
      " 4   Master User Permit Number        92 non-null     float64\n",
      " 5   Permit Stage                     2580 non-null   object \n",
      " 6   Type of Permit                   2580 non-null   object \n",
      " 7   New Units Permitted              2580 non-null   int64  \n",
      " 8   Demolished Units Permitted       2577 non-null   float64\n",
      " 9   Net Units Permitted              2577 non-null   float64\n",
      " 10  Sleeping Rooms Permitted         2580 non-null   int64  \n",
      " 11  Permit Value                     2556 non-null   float64\n",
      " 12  Type of Dwelling Unit            2580 non-null   object \n",
      " 13  Type of Dwelling Unit per Code   2580 non-null   object \n",
      " 14  Description of Work              2580 non-null   object \n",
      " 15  Application Date                 2575 non-null   object \n",
      " 16  Issued Date                      2580 non-null   object \n",
      " 17  Year Issued                      2580 non-null   int64  \n",
      " 18  Final Date                       1874 non-null   object \n",
      " 19  Year Finaled                     1874 non-null   float64\n",
      " 20  VILLNUMB                         2576 non-null   float64\n",
      " 21  Urban Village Name               2576 non-null   object \n",
      " 22  Urban Village Type               2576 non-null   object \n",
      " 23  Comp Plan Name                   2576 non-null   object \n",
      " 24  Comp Plan Type                   2576 non-null   object \n",
      " 25  Community Reporting Area Number  2576 non-null   float64\n",
      " 26  Community Reporting Area         2576 non-null   object \n",
      " 27  Neighborhood                     2576 non-null   object \n",
      " 28  Council District                 2576 non-null   float64\n",
      " 29  Census Block 2010                2576 non-null   float64\n",
      " 30  Census Block Group 2010          2576 non-null   float64\n",
      " 31  GEOID10                          2576 non-null   float64\n",
      " 32  SOURCE                           2580 non-null   object \n",
      " 33  XCOORD_StatePlane                2576 non-null   float64\n",
      " 34  YCOORD_StatePlane                2576 non-null   float64\n",
      " 35  MAF_ID                           2578 non-null   float64\n",
      " 36  DevSite_ID                       2576 non-null   object \n",
      " 37  RecordNumber                     2580 non-null   object \n",
      " 38  STATUS_COLOR                     2580 non-null   object \n",
      " 39  Longitude                        2576 non-null   float64\n",
      " 40  Latitude                         2576 non-null   float64\n",
      " 41  Expiration Date                  2580 non-null   object \n",
      " 42  Zoning All Zones                 2580 non-null   object \n",
      " 43  Zoning Primary Zone              2580 non-null   object \n",
      " 44  Zoning Report Zone               2580 non-null   object \n",
      " 45  Zoning Category                  2580 non-null   object \n",
      " 46  Zoning Class                     2580 non-null   object \n",
      " 47  Parent Construction Permit       434 non-null    object \n",
      " 48  GEOID20                          2576 non-null   float64\n",
      " 49  Census Block 2020                2576 non-null   float64\n",
      " 50  Census Block Group 2020          2576 non-null   float64\n",
      " 51  Quarter Issued                   2580 non-null   int64  \n",
      " 52  Quarter and Year Issued          2580 non-null   object \n",
      " 53  Quarter Final                    1874 non-null   float64\n",
      " 54  Quarter and Year Final           1874 non-null   object \n",
      " 55  Condo Parcel or Plat (Y/N)       2580 non-null   object \n",
      " 56  Most Recent Inspection Date      2494 non-null   object \n",
      " 57  Most Recent Inspection Type      2495 non-null   object \n",
      " 58  x                                2576 non-null   float64\n",
      " 59  y                                2576 non-null   float64\n",
      "dtypes: float64(23), int64(6), object(31)\n",
      "memory usage: 1.2+ MB\n"
     ]
    }
   ],
   "source": [
    "print(df_aadu.shape)\n",
    "print(df_dadu.shape)\n",
    "\n",
    "# Check if AADU and DADU Data have all the same varaibles\n",
    "df_aadu.columns == df_dadu.columns\n",
    "\n",
    "# Since all columns are similar -- will only examine one data set (for now)\n",
    "df_aadu.head()\n",
    "df_aadu.info()"
   ]
  },
  {
   "cell_type": "markdown",
   "metadata": {},
   "source": [
    "## Append and Clean Data"
   ]
  },
  {
   "cell_type": "code",
   "execution_count": 60,
   "metadata": {},
   "outputs": [
    {
     "name": "stdout",
     "output_type": "stream",
     "text": [
      "Total Missing: 0, Percentage Missing: 0.0%%\n",
      "Total Missing: 0, Percentage Missing: 0.0%%\n",
      "Total Missing: 9, Percentage Missing: 0.15%%\n",
      "Total Missing: 92, Percentage Missing: 1.51%%\n",
      "Total Missing: 0, Percentage Missing: 0.0%%\n",
      "Total Missing: 0, Percentage Missing: 0.0%%\n",
      "Total Missing: 3, Percentage Missing: 0.05%%\n",
      "Total Missing: 3, Percentage Missing: 0.05%%\n",
      "Total Missing: 0, Percentage Missing: 0.0%%\n",
      "Total Missing: 5, Percentage Missing: 0.08%%\n",
      "Total Missing: 0, Percentage Missing: 0.0%%\n",
      "Total Missing: 1356, Percentage Missing: 22.22%%\n",
      "Total Missing: 795, Percentage Missing: 13.03%%\n",
      "Total Missing: 793, Percentage Missing: 13.0%%\n",
      "Total Missing: 0, Percentage Missing: 0.0%%\n",
      "Total Missing: 10, Percentage Missing: 0.16%%\n",
      "Total Missing: 10, Percentage Missing: 0.16%%\n",
      "Total Missing: 10, Percentage Missing: 0.16%%\n",
      "Total Missing: 10, Percentage Missing: 0.16%%\n",
      "Total Missing: 10, Percentage Missing: 0.16%%\n",
      "Total Missing: 10, Percentage Missing: 0.16%%\n",
      "Total Missing: 10, Percentage Missing: 0.16%%\n",
      "Total Missing: 10, Percentage Missing: 0.16%%\n",
      "Total Missing: 0, Percentage Missing: 0.0%%\n"
     ]
    },
    {
     "data": {
      "text/plain": [
       "OBJECTID                        None\n",
       "Type of Dwelling Unit           None\n",
       "Development Site Square Feet    None\n",
       "Permit Value                    None\n",
       "Description of Work             None\n",
       "New Units Permitted             None\n",
       "Demolished Units Permitted      None\n",
       "Net Units Permitted             None\n",
       "Sleeping Rooms Permitted        None\n",
       "Application Date                None\n",
       "Issued Date                     None\n",
       "Final Date                      None\n",
       "Most Recent Inspection Date     None\n",
       "Most Recent Inspection Type     None\n",
       "Project Address                 None\n",
       "Neighborhood                    None\n",
       "Council District                None\n",
       "GEOID10                         None\n",
       "GEOID20                         None\n",
       "Census Block 2020               None\n",
       "Census Block Group 2020         None\n",
       "Longitude                       None\n",
       "Latitude                        None\n",
       "Source                          None\n",
       "dtype: object"
      ]
     },
     "execution_count": 60,
     "metadata": {},
     "output_type": "execute_result"
    }
   ],
   "source": [
    "# Create Source Tag Variables\n",
    "df_aadu['Source'] = 'AADU'\n",
    "df_dadu['Source'] = 'DADU'\n",
    "\n",
    "# Concatenate the 2 Pandas Data Frames Together\n",
    "df_adu = pd.concat([df_aadu, df_dadu], \n",
    "                   ignore_index = True, join='inner')\n",
    "\n",
    "# Subset to Variables of Interest\n",
    "vars = ['OBJECTID', \n",
    "        'Type of Dwelling Unit', 'Development Site Square Feet', 'Permit Value', 'Description of Work',\n",
    "        'New Units Permitted', 'Demolished Units Permitted','Net Units Permitted', 'Sleeping Rooms Permitted',  \n",
    "        'Application Date', 'Issued Date', 'Final Date', 'Most Recent Inspection Date', 'Most Recent Inspection Type',\n",
    "        'Project Address', 'Neighborhood', 'Council District', 'GEOID10', 'GEOID20', 'Census Block 2020', 'Census Block Group 2020',\n",
    "        'Longitude', 'Latitude', 'Source']\n",
    "\n",
    "dat_adu = df_adu[vars].drop_duplicates()\n",
    "\n",
    "# Assessing Missingness\n",
    "dat_adu.agg(missing_stats).apply(print)"
   ]
  },
  {
   "cell_type": "code",
   "execution_count": null,
   "metadata": {},
   "outputs": [],
   "source": []
  }
 ],
 "metadata": {
  "kernelspec": {
   "display_name": "Python 3",
   "language": "python",
   "name": "python3"
  },
  "language_info": {
   "codemirror_mode": {
    "name": "ipython",
    "version": 3
   },
   "file_extension": ".py",
   "mimetype": "text/x-python",
   "name": "python",
   "nbconvert_exporter": "python",
   "pygments_lexer": "ipython3",
   "version": "3.12.0"
  }
 },
 "nbformat": 4,
 "nbformat_minor": 2
}
