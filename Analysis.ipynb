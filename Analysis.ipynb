{
 "cells": [
  {
   "cell_type": "markdown",
   "metadata": {},
   "source": [
    "# Seattle Accessory Dwelling Units\n",
    "Source: [City of Seattle Open Data Portal](https://data.seattle.gov/)"
   ]
  },
  {
   "cell_type": "code",
   "execution_count": 44,
   "metadata": {},
   "outputs": [],
   "source": [
    "# Install Packages\n",
    "\n",
    "# !pip install pyarrow\n",
    "# !pip install geopandas\n",
    "# !pip install rtree\n",
    "# !pip install cenpy\n",
    "\n",
    "# Load Packages\n",
    "\n",
    "## General\n",
    "from pprint import pprint # For tidy printing\n",
    "import numpy as np \n",
    "import pandas as pd\n",
    "import matplotlib.pyplot as plt\n",
    "import seaborn as sns\n",
    "\n",
    "## Data Storage & Filepaths\n",
    "import pyarrow.feather as feather\n",
    "from pathlib import Path # For storing filepaths as a Path Object\n",
    "\n",
    "## API Pulls\n",
    "# import requests\n",
    "# from io import StringIO\n",
    "# import time # To record elapsed time\n",
    "\n",
    "## Geospatial\n",
    "import geopandas\n",
    "\n",
    "## Census Data \n",
    "import cenpy"
   ]
  },
  {
   "cell_type": "markdown",
   "metadata": {},
   "source": [
    "## Load in ADU Data"
   ]
  },
  {
   "cell_type": "code",
   "execution_count": 33,
   "metadata": {},
   "outputs": [
    {
     "name": "stdout",
     "output_type": "stream",
     "text": [
      "Matched: Seattle, WA to Seattle city within layer Incorporated Places\n"
     ]
    },
    {
     "name": "stderr",
     "output_type": "stream",
     "text": [
      "C:\\Users\\tbonn\\AppData\\Local\\Temp\\ipykernel_11384\\2570501637.py:14: FutureWarning: The `op` parameter is deprecated and will be removed in a future release. Please use the `predicate` parameter instead.\n",
      "  .from_place('Seattle, WA',level='tract', variables= vars_acs)\n"
     ]
    }
   ],
   "source": [
    "data_folder = Path.cwd() / 'data' \n",
    "\n",
    "# ADU Data\n",
    "df_aadu = pd.read_csv(data_folder /'raw'/'Detached_Accessory_Dwelling_Units_(DADUs).csv')\n",
    "df_dadu = pd.read_csv(data_folder /'raw'/'Attached_Accessory_Dwelling_Units_(AADUs).csv')\n",
    "\n",
    "# Census Data\n",
    "# https://www.census.gov/programs-surveys/acs/technical-documentation/table-shells.html\n",
    "vars_acs = ['B11001_001E', 'B11001_002E', 'B11017_002E', 'B25001_001E', 'B25002_003E','B25003_002E', 'B25018_001E', 'B25024_002E', 'B25024_003E', 'B25027_002E', 'B25035_001E', 'B19061_001E', 'B19013_001E', 'B19083_001E']\n",
    "vars_acs_desc = ['Total HH', 'Family HH', 'Multigen HH', 'Total Units', 'Total Vac Units', 'Total Owner Occupied Units', 'Median Rooms', 'Units DADU', 'Units AADU', 'Units Mortgage', 'Median Year Built', 'Agg HH Income', 'Median HH Income', 'Gini Income Ineq']\n",
    "vars_acs_dict = dict(zip(vars_acs, vars_acs_desc))\n",
    "\n",
    "acs_seattle = (cenpy.products.ACS()\n",
    "               .from_place('Seattle, WA',level='tract', variables= vars_acs)\n",
    "               .drop(columns = ['state','county','tract'])\n",
    "               .rename(columns = {'GEOID':'geoid20'})\n",
    "               .rename(columns = vars_acs_dict)\n",
    "               )\n",
    "del vars_acs, vars_acs_desc"
   ]
  },
  {
   "cell_type": "markdown",
   "metadata": {},
   "source": [
    "## Explore ADU Data"
   ]
  },
  {
   "cell_type": "code",
   "execution_count": 34,
   "metadata": {},
   "outputs": [
    {
     "name": "stdout",
     "output_type": "stream",
     "text": [
      "(2580, 60)\n",
      "(3522, 60)\n",
      "<class 'pandas.core.frame.DataFrame'>\n",
      "RangeIndex: 2580 entries, 0 to 2579\n",
      "Data columns (total 60 columns):\n",
      " #   Column                           Non-Null Count  Dtype  \n",
      "---  ------                           --------------  -----  \n",
      " 0   OBJECTID                         2580 non-null   int64  \n",
      " 1   Project Address                  2580 non-null   object \n",
      " 2   Development Site Square Feet     2574 non-null   float64\n",
      " 3   Permit Number                    2580 non-null   int64  \n",
      " 4   Master User Permit Number        92 non-null     float64\n",
      " 5   Permit Stage                     2580 non-null   object \n",
      " 6   Type of Permit                   2580 non-null   object \n",
      " 7   New Units Permitted              2580 non-null   int64  \n",
      " 8   Demolished Units Permitted       2577 non-null   float64\n",
      " 9   Net Units Permitted              2577 non-null   float64\n",
      " 10  Sleeping Rooms Permitted         2580 non-null   int64  \n",
      " 11  Permit Value                     2556 non-null   float64\n",
      " 12  Type of Dwelling Unit            2580 non-null   object \n",
      " 13  Type of Dwelling Unit per Code   2580 non-null   object \n",
      " 14  Description of Work              2580 non-null   object \n",
      " 15  Application Date                 2575 non-null   object \n",
      " 16  Issued Date                      2580 non-null   object \n",
      " 17  Year Issued                      2580 non-null   int64  \n",
      " 18  Final Date                       1874 non-null   object \n",
      " 19  Year Finaled                     1874 non-null   float64\n",
      " 20  VILLNUMB                         2576 non-null   float64\n",
      " 21  Urban Village Name               2576 non-null   object \n",
      " 22  Urban Village Type               2576 non-null   object \n",
      " 23  Comp Plan Name                   2576 non-null   object \n",
      " 24  Comp Plan Type                   2576 non-null   object \n",
      " 25  Community Reporting Area Number  2576 non-null   float64\n",
      " 26  Community Reporting Area         2576 non-null   object \n",
      " 27  Neighborhood                     2576 non-null   object \n",
      " 28  Council District                 2576 non-null   float64\n",
      " 29  Census Block 2010                2576 non-null   float64\n",
      " 30  Census Block Group 2010          2576 non-null   float64\n",
      " 31  GEOID10                          2576 non-null   float64\n",
      " 32  SOURCE                           2580 non-null   object \n",
      " 33  XCOORD_StatePlane                2576 non-null   float64\n",
      " 34  YCOORD_StatePlane                2576 non-null   float64\n",
      " 35  MAF_ID                           2578 non-null   float64\n",
      " 36  DevSite_ID                       2576 non-null   object \n",
      " 37  RecordNumber                     2580 non-null   object \n",
      " 38  STATUS_COLOR                     2580 non-null   object \n",
      " 39  Longitude                        2576 non-null   float64\n",
      " 40  Latitude                         2576 non-null   float64\n",
      " 41  Expiration Date                  2580 non-null   object \n",
      " 42  Zoning All Zones                 2580 non-null   object \n",
      " 43  Zoning Primary Zone              2580 non-null   object \n",
      " 44  Zoning Report Zone               2580 non-null   object \n",
      " 45  Zoning Category                  2580 non-null   object \n",
      " 46  Zoning Class                     2580 non-null   object \n",
      " 47  Parent Construction Permit       434 non-null    object \n",
      " 48  GEOID20                          2576 non-null   float64\n",
      " 49  Census Block 2020                2576 non-null   float64\n",
      " 50  Census Block Group 2020          2576 non-null   float64\n",
      " 51  Quarter Issued                   2580 non-null   int64  \n",
      " 52  Quarter and Year Issued          2580 non-null   object \n",
      " 53  Quarter Final                    1874 non-null   float64\n",
      " 54  Quarter and Year Final           1874 non-null   object \n",
      " 55  Condo Parcel or Plat (Y/N)       2580 non-null   object \n",
      " 56  Most Recent Inspection Date      2494 non-null   object \n",
      " 57  Most Recent Inspection Type      2495 non-null   object \n",
      " 58  x                                2576 non-null   float64\n",
      " 59  y                                2576 non-null   float64\n",
      "dtypes: float64(23), int64(6), object(31)\n",
      "memory usage: 1.2+ MB\n"
     ]
    }
   ],
   "source": [
    "print(df_aadu.shape)\n",
    "print(df_dadu.shape)\n",
    "\n",
    "# Check if AADU and DADU Data have all the same varaibles\n",
    "df_aadu.columns == df_dadu.columns\n",
    "\n",
    "# Since all columns are similar -- will only examine one data set (for now)\n",
    "df_aadu.head()\n",
    "df_aadu.info()"
   ]
  },
  {
   "cell_type": "markdown",
   "metadata": {},
   "source": [
    "## Append Data"
   ]
  },
  {
   "cell_type": "code",
   "execution_count": 35,
   "metadata": {},
   "outputs": [],
   "source": [
    "# Create Source Tag Variables\n",
    "df_aadu['Data Source'] = 'AADU'\n",
    "df_dadu['Data Source'] = 'DADU'\n",
    "\n",
    "# Concatenate the 2 Pandas Data Frames Together\n",
    "df_adu = pd.concat([df_aadu, df_dadu], \n",
    "                   ignore_index = True, join='inner')\n",
    "\n",
    "del df_aadu, df_dadu"
   ]
  },
  {
   "cell_type": "markdown",
   "metadata": {},
   "source": [
    "## Subset & Clean Data"
   ]
  },
  {
   "cell_type": "code",
   "execution_count": null,
   "metadata": {},
   "outputs": [],
   "source": [
    "### dat_adu ###\n",
    "\n",
    "# Subset to Variables of Interest\n",
    "vars = ['Type of Dwelling Unit', 'Development Site Square Feet', 'Permit Value', 'Description of Work',\n",
    "        'New Units Permitted', 'Demolished Units Permitted','Net Units Permitted', 'Sleeping Rooms Permitted',  \n",
    "        'Application Date', 'Issued Date', 'Final Date', 'Most Recent Inspection Date', \n",
    "        'Project Address', 'Neighborhood', 'Council District', 'GEOID20',\n",
    "        'Longitude', 'Latitude']\n",
    "\n",
    "dat_adu = df_adu[vars]\n",
    "\n",
    "# Assess Missingness\n",
    "dat_adu.isnull().sum().sort_values(ascending=False)\n",
    "\n",
    "# Convert all Column Names to Lowercase (w/o any spaces)\n",
    "dat_adu.columns = dat_adu.columns.str.lower().str.replace(' ', '_')\n",
    "\n",
    "# Properly Format Variables\n",
    "\n",
    "## 1) Dates: Objects --> Date Time\n",
    "vars_date = ['application_date', 'issued_date', 'final_date', 'most_recent_inspection_date']\n",
    "dat_adu[vars_date] = (dat_adu[vars_date]\n",
    "                      .apply(lambda var: \n",
    "                             pd.to_datetime(\n",
    "                                 var.str.replace(r'\\d{1,2}\\:\\d{2}\\:\\d{2} [AP]M','', regex = True).str.strip() # Use regex to remove time components, strip whitespace\n",
    "                                 ))) \n",
    "                                                                                                    \n",
    "### Breakout Dates into Day/Month/Year Components:\n",
    "for col in dat_adu.columns:\n",
    "    if col.endswith('_date'):\n",
    "        dat_adu[f'{col}_day'] = dat_adu[col].dt.day\n",
    "        dat_adu[f'{col}_month'] = dat_adu[col].dt.month\n",
    "        dat_adu[f'{col}_year'] = dat_adu[col].dt.year\n",
    "\n",
    "\n",
    "## 2) Categories: Objects --> Categorical Data\n",
    "vars_cat = ['type_of_dwelling_unit', 'neighborhood','council_district']\n",
    "dat_adu[vars_cat] = dat_adu[vars_cat].apply(lambda var: var.astype('category'))\n",
    "\n",
    "# Correct Category Naming (ADU --> AADU)\n",
    "dat_adu['type_of_dwelling_unit'] = dat_adu['type_of_dwelling_unit'].cat.rename_categories({'ADU':'AADU'})\n",
    "\n",
    "## 3) Integers: Floats --> Integers\n",
    "vars_int = ['demolished_units_permitted', 'net_units_permitted']\n",
    "dat_adu[vars_int] = dat_adu[vars_int].apply(lambda var: var.astype('Int64')) # Using Int64 vs int64, as its a new format which allows for NA cells within an integer variable (int64 does not)\n",
    "\n",
    "\n",
    "## 4) Subset GEOID to Census Tract (15 --> 11 digits); to permit left_join with ACS data\n",
    "dat_adu['geoid20'] = dat_adu['geoid20'].astype('str').str[:-6]\n",
    "\n",
    "\n",
    "## 5) Convert dat_adu to a GeoDataFrame --> Convert Latitude & Longitude coordinates into a point geometries. \n",
    "dat_adu = geopandas.GeoDataFrame(dat_adu, \n",
    "                                 geometry=geopandas.points_from_xy(dat_adu.longitude, dat_adu.latitude), crs=\"EPSG:4326\")\n",
    "\n",
    "\n",
    "del vars, vars_date, vars_cat, vars_int\n",
    "\n",
    "\n",
    "\n",
    "### acs_seattle ###\n",
    "acs_seattle.dtypes\n",
    "\n",
    "# Convert all Column Names to Lowercase (w/o any spaces)\n",
    "acs_seattle.columns = 'acs_' + acs_seattle.columns.str.lower().str.replace(' ','_')\n",
    "print(acs_seattle.columns)\n",
    "\n",
    "# Convert to object\n",
    "acs_seattle['acs_geoid20'] = acs_seattle['acs_geoid20'].astype('str')\n",
    "\n",
    "# Create a separate data frame (just for geoid20 & geometry)\n",
    "acs_seattle_geom = acs_seattle[['acs_geoid20', 'acs_geometry']]\n",
    "\n",
    "# Remove 'acs_geometry' from acs_seattle (cannot have 2 geometry columns)\n",
    "acs_seattle = acs_seattle.drop('acs_geometry', axis='columns')"
   ]
  },
  {
   "cell_type": "markdown",
   "metadata": {},
   "source": [
    "## Join With Census Data"
   ]
  },
  {
   "cell_type": "code",
   "execution_count": 37,
   "metadata": {},
   "outputs": [],
   "source": [
    "dat_adu = pd.merge(dat_adu, acs_seattle, \n",
    "                left_on = 'geoid20', right_on= 'acs_geoid20', how='left')"
   ]
  },
  {
   "cell_type": "markdown",
   "metadata": {},
   "source": [
    "## Feature Engineering"
   ]
  },
  {
   "cell_type": "code",
   "execution_count": 38,
   "metadata": {},
   "outputs": [],
   "source": [
    "## Calculate the time differences in the steps of the ADU building process.\n",
    "dat_adu = (dat_adu\n",
    "        .assign(\n",
    "           processing_time = (dat_adu['issued_date'] - dat_adu['application_date']).dt.days,\n",
    "            build_time = (dat_adu['final_date'] - dat_adu['issued_date']).dt.days\n",
    "        ))"
   ]
  },
  {
   "cell_type": "markdown",
   "metadata": {},
   "source": [
    "## Save Cleaned Data"
   ]
  },
  {
   "cell_type": "code",
   "execution_count": 42,
   "metadata": {},
   "outputs": [],
   "source": [
    "# Save Data\n",
    "dat_adu.to_feather(path = data_folder /'clean'/'adu_acs_data.feather')\n",
    "feather.write_feather(df = acs_seattle, dest = data_folder /'clean'/'acs_data.feather')\n",
    "acs_seattle_geom.to_feather(path = data_folder /'clean'/'acs_geo.feather')"
   ]
  }
 ],
 "metadata": {
  "kernelspec": {
   "display_name": "Python 3",
   "language": "python",
   "name": "python3"
  },
  "language_info": {
   "codemirror_mode": {
    "name": "ipython",
    "version": 3
   },
   "file_extension": ".py",
   "mimetype": "text/x-python",
   "name": "python",
   "nbconvert_exporter": "python",
   "pygments_lexer": "ipython3",
   "version": "0.0.0"
  }
 },
 "nbformat": 4,
 "nbformat_minor": 2
}
