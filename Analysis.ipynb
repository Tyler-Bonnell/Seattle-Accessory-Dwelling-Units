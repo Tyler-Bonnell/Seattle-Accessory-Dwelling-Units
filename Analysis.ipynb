{
 "cells": [
  {
   "cell_type": "markdown",
   "metadata": {},
   "source": [
    "# Seattle Accessory Dwelling Units\n",
    "Source: [City of Seattle Open Data Portal](https://data.seattle.gov/)"
   ]
  },
  {
   "cell_type": "code",
   "execution_count": 1,
   "metadata": {},
   "outputs": [],
   "source": [
    "### CUSTOM FUNCTIONS ###\n",
    "\n",
    "# Define Custom API Pull function (for CSV/JSON without Authentication)\n",
    "def api_pull(url, api_type = 'CSV', timed = True):\n",
    "    \n",
    "    \"\"\"Pull data from a CSV or JSON API (without authentication credentials)\"\"\"\n",
    "    \n",
    "    start_time = time.time() # Start recording API processing time\n",
    "\n",
    "    ## 1)  Make a HTTP Request to API\n",
    "    api_response = requests.get(url)\n",
    "\n",
    "    ## 2) Check if API response was successful (Status Code: 200)\n",
    "    if api_response.status_code == 200:\n",
    "\n",
    "        ## 2a) Extract raw data (based on API type)\n",
    "        if api_type == 'CSV':\n",
    "            raw_data = StringIO(api_response.text)\n",
    "            df = pd.read_csv(raw_data)\n",
    "\n",
    "\n",
    "        elif api_type == 'JSON':\n",
    "            raw_data = api_response.json()\n",
    "            df = pd.DataFrame(raw_data)\n",
    "\n",
    "        ## 2b) Calculate Elapsed API Processing Time\n",
    "        end_time = time.time() # Stop recording API processing time\n",
    "        elapsed_time = end_time - start_time # Calculate elapsed time\n",
    "\n",
    "        ## 2c) Return API Process Time\n",
    "        if(timed==True):\n",
    "            print(f\"Elapsed time: {round(elapsed_time,2)} seconds\")\n",
    "\n",
    "        ## 2d) Return pandas dataframe\n",
    "        return df\n",
    "\n",
    "    else:\n",
    "        # Print an error message if the request was not successful\n",
    "        print(f\"Failed to fetch data. Status code: {api_response.status_code}\") # In an f-string, you can embed expressions inside curly braces {}. These expressions will be evaluated at runtime and their values will be inserted into the string. This provides a concise and readable way to format strings with variables and expressions.\n",
    "\n"
   ]
  },
  {
   "cell_type": "markdown",
   "metadata": {},
   "source": []
  }
 ],
 "metadata": {
  "kernelspec": {
   "display_name": "Python 3",
   "language": "python",
   "name": "python3"
  },
  "language_info": {
   "codemirror_mode": {
    "name": "ipython",
    "version": 3
   },
   "file_extension": ".py",
   "mimetype": "text/x-python",
   "name": "python",
   "nbconvert_exporter": "python",
   "pygments_lexer": "ipython3",
   "version": "3.12.0"
  }
 },
 "nbformat": 4,
 "nbformat_minor": 2
}
